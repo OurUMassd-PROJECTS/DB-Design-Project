{
 "cells": [
  {
   "cell_type": "markdown",
   "id": "d50723f5-fd5f-4221-860d-b430423b16ce",
   "metadata": {
    "tags": []
   },
   "source": [
    "# Load CSV Data into SQLite Database"
   ]
  },
  {
   "cell_type": "markdown",
   "id": "65d156c8-94c6-4398-9537-e75872976d13",
   "metadata": {
    "tags": []
   },
   "source": [
    "Below code loads CSV data into an SQLite database. It creates a database `salary_data.db`, defines a schema, and insert data from a CSV file into the database."
   ]
  },
  {
   "cell_type": "code",
   "execution_count": 7,
   "id": "172fcf6e-0bf2-4228-b882-9f68cd9779ee",
   "metadata": {
    "tags": []
   },
   "outputs": [],
   "source": [
    "## Importing Required Libraries\n",
    "'''\n",
    "Importing the necessary libraries for database interaction and CSV file handling.\n",
    "'''\n",
    "import sqlite3\n",
    "import csv\n",
    "\n",
    "def load_csv_to_db(csv_file, db_name):\n",
    "    conn = sqlite3.connect(db_name)\n",
    "    cur = conn.cursor()\n",
    "\n",
    "    # Create table (example for the provided columns)\n",
    "    cur.execute('''CREATE TABLE IF NOT EXISTS salary_data (\n",
    "                      PersonID INTEGER,\n",
    "                      PersonName TEXT,\n",
    "                      SchoolID TEXT,\n",
    "                      SchoolName TEXT,\n",
    "                      SchoolCampus TEXT,\n",
    "                      DepartmentName TEXT,\n",
    "                      DepartmentID TEXT,\n",
    "                      BirthDate TEXT,\n",
    "                      StillWorking TEXT,\n",
    "                      JobID TEXT,\n",
    "                      JobTitle TEXT,\n",
    "                      Earnings REAL,\n",
    "                      EarningsYear INTEGER\n",
    "                  )''')\n",
    "\n",
    "    # Read CSV and insert rows into the table\n",
    "    with open(csv_file, 'r') as file:\n",
    "        reader = csv.reader(file)\n",
    "        next(reader)  # Skip header row\n",
    "        for row in reader:\n",
    "            cur.execute('''INSERT INTO salary_data VALUES (?, ?, ?, ?, ?, ?, ?, ?, ?, ?, ?, ?, ?)''', row)\n",
    "\n",
    "    conn.commit()\n",
    "    conn.close()\n",
    "\n",
    "# Example usage\n",
    "load_csv_to_db('./csv_files/salary_tracker_100MB.csv', 'salary_data.db')\n"
   ]
  },
  {
   "cell_type": "code",
   "execution_count": null,
   "id": "cf3c077e-ac1d-4a6b-9f57-791dc85f16ff",
   "metadata": {},
   "outputs": [],
   "source": []
  }
 ],
 "metadata": {
  "kernelspec": {
   "display_name": "Python 3 (ipykernel)",
   "language": "python",
   "name": "python3"
  },
  "language_info": {
   "codemirror_mode": {
    "name": "ipython",
    "version": 3
   },
   "file_extension": ".py",
   "mimetype": "text/x-python",
   "name": "python",
   "nbconvert_exporter": "python",
   "pygments_lexer": "ipython3",
   "version": "3.11.5"
  }
 },
 "nbformat": 4,
 "nbformat_minor": 5
}
